{
 "cells": [
  {
   "attachments": {},
   "cell_type": "markdown",
   "id": "b8bbe053",
   "metadata": {},
   "source": [
    "<h2 style=\"text-align: center;\">CENG222</h2>\n",
    "<h3 style=\"text-align: center;\">Probability and Statistics</h3>\n",
    "<h3 style=\"text-align: center;\">Term Project for 2022-2023 Spring</h3>"
   ]
  },
  {
   "attachments": {},
   "cell_type": "markdown",
   "id": "ffa631a2",
   "metadata": {},
   "source": [
    "### DUE DATE: 26.06.2023 - 23:59\n",
    "\n",
    "<u>IMPORTANT NOTES:</u>\n",
    "1. A lecture on Python, NumPy, and Pyplot focusing on this term project will be given next week. Notes from that lecture will also be available for you.\n",
    "2. This is **NOT** a group activity. You can discuss some points with your friends, but each student will submit and be graded **individually**. If you want to be safe rather than sorry, you should consult with the **course assistants** as your primary and with the **instructor** as your secondary source of knowledge.\n",
    "3. The Jupyter Notebook scripts and the reports will be processed manually and automatically to detect plagiarism and cheating. Again: You should be careful about the level of cooperation with your friends. In case of cheating, all parties will be punished equally.\n",
    "4. Your Jupyter Notebook script should be named **studentid.ipynb (not .py!)**, and your report **studentid.pdf.**\n",
    "5. If your report is hand-written, the responsibility is yours to make it as legible as possible. Illegible parts will not be graded.\n",
    "6. Once the projects are graded, you will receive detailed feedback about your submission. There will be a grace period for your objections.\n",
    "\n",
    "<u>NOTES on Jupyter Notebook</u>\n",
    "1. You can use additional cells to implement your code.\n",
    "2. Don't forget to import necessary libraries.\n",
    "3. **IMPORTANT** When you are submiting your work, you must upload as an **.ipynb** file. So, if you are using Google Colab, you should download your code as Jupyter Notebook **.ipynb** file."
   ]
  },
  {
   "attachments": {},
   "cell_type": "markdown",
   "id": "7f0e34e1",
   "metadata": {},
   "source": [
    "### In this project,\n",
    "\n",
    "you will analyze the relationship between five random variables in a healthcare context: exercise frequency (**A**), caloric intake (**B**), patient category (**C**), cholesterol level (**D**), blood pressure (**E**), and Hemoglobin A1c (HbA1c) level (**H**). For this analysis, you will first implement algorithms to generate those variables and create a population. Then by sampling from this population, you will analyze their statistics, estimate different distribution parameters, compute confidence intervals, test a hypothesis, and automatically classify patients into patient categories by looking at their D, E, and H values.\n",
    "<br>\n",
    "<br>\n",
    "You will also produce relevant plots for each step to help you understand and interpret the exercises and check your results. In the meantime, you will calculate or derive estimators for the unknown distribution parameters required for implementations.\n",
    "<br>\n",
    "<br>\n",
    "In conclusion, your project submission will be in two folds: the implementation part for which a single **Python (Jupyter)** script is expected and the reporting part for which a **PDF** file is expected. The project is broken down into many small steps, and if it is in the implementation part, a step is marked with <span style=\"color:red\">**red**</span> and otherwise with <span style=\"color:blue\">**blue**</span>. Only 3 packages are required for implementation: **numpy**, **sympy**, and **pyplot**."
   ]
  },
  {
   "attachments": {},
   "cell_type": "markdown",
   "id": "81dcaf26",
   "metadata": {},
   "source": [
    "### The random variables' details, distiributions, and relations are in the PDF document. Please use those when writing your code."
   ]
  },
  {
   "cell_type": "code",
   "execution_count": 1,
   "id": "31053dd2",
   "metadata": {},
   "outputs": [],
   "source": [
    "import numpy as np\n",
    "import sympy as sp\n",
    "from matplotlib import pyplot as plt\n",
    "\n",
    "## You can import additional libraries if you think you need\n",
    "import scipy.optimize as optimize\n",
    "\n",
    "np.set_printoptions(precision=3, suppress=True)"
   ]
  },
  {
   "attachments": {},
   "cell_type": "markdown",
   "id": "b30995e7",
   "metadata": {},
   "source": [
    "### TASK 1: Generating the population\n",
    "<br>\n",
    "<br>\n",
    "Your first task is to generate synthetic patient data.\n",
    "<br>\n",
    "<br>\n",
    "Firstly, you must calculate the unknown distribution parameters and implement the generator functions. You are <u><b>advised</b></u> to use online equation solvers or integral calculators such as Wolfram Alpha or Symbolab in your calculations. Just <u><b>do not forget</b></u> to include each step in detail in your report. In your implementations, you are <u><b>not allowed</b></u> to use any number generator function other than <u><b><span style=\"color:green\">numpy.random.random</span></b></u> unless stated otherwise.\n",
    "<br>\n",
    "<br>\n",
    "Next, you must generate the population data for each random variable using its generator function. To have a better insight into the population and check if you have implemented everything correctly, you should plot the population histograms and probability mass/density functions (PMF/PDF).\n",
    "<br>\n",
    "<br>\n",
    "Here are the detailed steps:"
   ]
  },
  {
   "attachments": {},
   "cell_type": "markdown",
   "id": "38290659",
   "metadata": {},
   "source": [
    "<span style=\"color:red\">**1**</span>. Implement a function (**pmf_a**) to compute the PMF of A."
   ]
  },
  {
   "cell_type": "code",
   "execution_count": 2,
   "id": "0fada461",
   "metadata": {},
   "outputs": [],
   "source": [
    "def pmf_a(a):\n",
    "    if a < 0:\n",
    "        return 0\n",
    "    return 0.5**(a+1)"
   ]
  },
  {
   "attachments": {},
   "cell_type": "markdown",
   "id": "77fa6120",
   "metadata": {},
   "source": [
    "<span style=\"color:blue\">**2**</span>. Looking at the PMF of A, comment on which distribution family it looks like. Let’s say a random variable X is from that distribution family; how can you define A in terms of X?"
   ]
  },
  {
   "cell_type": "code",
   "execution_count": 3,
   "id": "a164a39c",
   "metadata": {},
   "outputs": [],
   "source": [
    "## Answer it in your report!"
   ]
  },
  {
   "attachments": {},
   "cell_type": "markdown",
   "id": "6c9511c7",
   "metadata": {},
   "source": [
    "<span style=\"color:red\">**3**</span>. <u><b>Using your findings in step 2</b></u>, implement a function (**generate_a**) to generate A."
   ]
  },
  {
   "cell_type": "code",
   "execution_count": 4,
   "id": "c70ff8a2",
   "metadata": {},
   "outputs": [],
   "source": [
    "def generate_a():\n",
    "    x = np.random.random()\n",
    "    a = 0\n",
    "    while x < 0.5:\n",
    "        a += 1\n",
    "        x = np.random.random()\n",
    "    return a"
   ]
  },
  {
   "attachments": {},
   "cell_type": "markdown",
   "id": "221a3418",
   "metadata": {},
   "source": [
    "<span style=\"color:blue\">**4**</span>. For B, find the values of x, y, z, and t."
   ]
  },
  {
   "cell_type": "code",
   "execution_count": 5,
   "id": "fc71dea2",
   "metadata": {},
   "outputs": [],
   "source": [
    "## Answer it in your report!"
   ]
  },
  {
   "attachments": {},
   "cell_type": "markdown",
   "id": "38ccfa4b",
   "metadata": {},
   "source": [
    "<span style=\"color:red\">**5**</span>. Implement a function (**pdf_b**) to compute the PDF of B."
   ]
  },
  {
   "cell_type": "code",
   "execution_count": 6,
   "id": "7c8ca35b",
   "metadata": {},
   "outputs": [],
   "source": [
    "def pdf_b(b):\n",
    "    if b >= 1/2 and b <= 5/2:\n",
    "        return (-0.096* (b**3)) + (0.432*(b**2)) - 0.352*b + 0.08\n",
    "    elif b >= 5/2 and b <= 11/2:\n",
    "        return (-2*b + 11)/15\n",
    "    else:\n",
    "        return 0"
   ]
  },
  {
   "attachments": {},
   "cell_type": "markdown",
   "id": "200e6e03",
   "metadata": {},
   "source": [
    "<span style=\"color:red\">**6**</span>. Implement a function (**generate_b**) to generate B <u><b>using the rejection method.</b></u>"
   ]
  },
  {
   "cell_type": "code",
   "execution_count": 7,
   "id": "88387dcc",
   "metadata": {},
   "outputs": [],
   "source": [
    "def generate_b():\n",
    "    while True:\n",
    "        u = np.random.random()\n",
    "        v = np.random.random()\n",
    "        x = 1/2 + (11/2 - 1/2)*u\n",
    "        y = 2/5*v\n",
    "        if y < pdf_b(x):\n",
    "            break\n",
    "    return x"
   ]
  },
  {
   "attachments": {},
   "cell_type": "markdown",
   "id": "557aaceb",
   "metadata": {},
   "source": [
    "<span style=\"color:red\">**7**</span>. Implement a function (**calculate_c**) to calculate C using generated A and B values. You can\n",
    "enumerate C if you like."
   ]
  },
  {
   "cell_type": "code",
   "execution_count": 8,
   "id": "79aa555e",
   "metadata": {},
   "outputs": [],
   "source": [
    "def calculate_c(a, b):\n",
    "    \n",
    "    NOT_RISKY, RISKY, VERY_RISKY = range(3)\n",
    "    \n",
    "    if b >= 1/2 and b <= 11/2:\n",
    "        if b >= 3 and b <= 11/2:\n",
    "            if a < 2:\n",
    "                return VERY_RISKY\n",
    "            else:\n",
    "                return RISKY\n",
    "        if b <= 3 and b >= 1/2:\n",
    "            if a < 2:\n",
    "                return RISKY\n",
    "            else:\n",
    "                return NOT_RISKY\n",
    "    else:\n",
    "        return -1 #Error code for b not being in the interval (1/2,11/2)"
   ]
  },
  {
   "attachments": {},
   "cell_type": "markdown",
   "id": "cee9987c",
   "metadata": {},
   "source": [
    "<span style=\"color:red\">**8**</span>. Implement a function (**pdf_d**) to compute the PDF of D."
   ]
  },
  {
   "cell_type": "code",
   "execution_count": 9,
   "id": "03dbe649",
   "metadata": {},
   "outputs": [],
   "source": [
    "def pdf_d(d, mu, sigma):\n",
    "    return (1/(sigma*(np.sqrt(2*np.pi))))*np.exp((-1/2)*(((d-mu)/sigma)**2))"
   ]
  },
  {
   "attachments": {},
   "cell_type": "markdown",
   "id": "fe52f09d",
   "metadata": {},
   "source": [
    "<span style=\"color:red\">**9**</span>. Implement a function (**generate_d**) to generate D for the calculated C values <u><b>using NumPy’s\n",
    "    normal distribution function: <span style=\"color:green\">numpy.random.normal.</span></b></u>"
   ]
  },
  {
   "cell_type": "code",
   "execution_count": 10,
   "id": "bee764e2",
   "metadata": {},
   "outputs": [],
   "source": [
    "def generate_d(c):\n",
    "    \n",
    "    x = -1 #Error code\n",
    "    if c == 0:\n",
    "        x = np.random.normal(loc=240, scale=50)\n",
    "    elif c == 1:\n",
    "        x = np.random.normal(loc=200, scale=70)\n",
    "    elif c == 2:\n",
    "        x = np.random.normal(loc=160, scale=30)\n",
    "    else:\n",
    "        x = -1 #Error code\n",
    "    return x"
   ]
  },
  {
   "attachments": {},
   "cell_type": "markdown",
   "id": "8f27ba28",
   "metadata": {},
   "source": [
    "<span style=\"color:blue\">**10**</span>. Calculate the PDF of E."
   ]
  },
  {
   "attachments": {},
   "cell_type": "markdown",
   "id": "f9f03cb7",
   "metadata": {},
   "source": [
    "### Answer it in your report."
   ]
  },
  {
   "attachments": {},
   "cell_type": "markdown",
   "id": "06267ab8",
   "metadata": {},
   "source": [
    "<span style=\"color:red\">**11**</span>. Implement a function (**pdf_e**) to compute the PDF of E."
   ]
  },
  {
   "cell_type": "code",
   "execution_count": 11,
   "id": "9caafb91",
   "metadata": {},
   "outputs": [],
   "source": [
    "def pdf_e(e, i, j):\n",
    "    if e >= (i + np.sqrt(j)) and e <= (i + np.sqrt(j+1)):\n",
    "        return 2*e - 2*i\n",
    "    else:\n",
    "        return 0"
   ]
  },
  {
   "attachments": {},
   "cell_type": "markdown",
   "id": "8d188d23",
   "metadata": {},
   "source": [
    "<span style=\"color:red\">**12**</span>. Implement a function (**generate_e**) to generate E <u><b>using the inverse transformation method</b></u> and\n",
    "    the calculated C values."
   ]
  },
  {
   "cell_type": "code",
   "execution_count": 12,
   "id": "458faa19",
   "metadata": {},
   "outputs": [],
   "source": [
    "def generate_e(c):\n",
    "    \n",
    "    def inverse_of_c(u, i, j):\n",
    "        return np.sqrt(u + j) + i\n",
    "    \n",
    "    if c == 2:\n",
    "        i = 0.9\n",
    "        j = 0.2\n",
    "    elif c == 1:\n",
    "        i = 0.5\n",
    "        j = 0.5\n",
    "    elif c == 0:\n",
    "        i = 0.1\n",
    "        j = 0.8\n",
    "    u = np.random.random()\n",
    "    return inverse_of_c(u,i,j)"
   ]
  },
  {
   "attachments": {},
   "cell_type": "markdown",
   "id": "96f189cd",
   "metadata": {},
   "source": [
    "<span style=\"color:blue\">**13**</span>. For PDF of H, define the parameter l in terms of k. Rewrite the PDF with a single parameter."
   ]
  },
  {
   "attachments": {},
   "cell_type": "markdown",
   "id": "f11d56be",
   "metadata": {},
   "source": [
    "### Answer it in your report."
   ]
  },
  {
   "attachments": {},
   "cell_type": "markdown",
   "id": "7b7fcca7",
   "metadata": {},
   "source": [
    "<span style=\"color:red\">**14**</span>. Based on step 13, implement a function (**pdf_h**) to compute the PDF of H."
   ]
  },
  {
   "cell_type": "code",
   "execution_count": 13,
   "id": "61998e98",
   "metadata": {},
   "outputs": [],
   "source": [
    "def pdf_h(h, k, l):\n",
    "    if h >= 0 and h <= 1:\n",
    "        return k\n",
    "    elif h > 1 and h <= 2:\n",
    "        return l\n",
    "    else:\n",
    "        return 0"
   ]
  },
  {
   "attachments": {},
   "cell_type": "markdown",
   "id": "6a48c1e7",
   "metadata": {},
   "source": [
    "<span style=\"color:red\">**15**</span>. Implement a function (**generate_h**) to generate H <u><b>using the rejection method.</b></u>"
   ]
  },
  {
   "cell_type": "code",
   "execution_count": 14,
   "id": "6c2ce06f",
   "metadata": {},
   "outputs": [],
   "source": [
    "def generate_h(c):\n",
    "    if c == 0:\n",
    "        k = 0.7\n",
    "        l = 0.3\n",
    "    elif c == 1:\n",
    "        k = 0.4\n",
    "        l = 0.6\n",
    "    elif c == 2:\n",
    "        k = 0.1\n",
    "        l = 0.9\n",
    "    while True:\n",
    "        u = np.random.random()\n",
    "        v = np.random.random()\n",
    "        x = 2*u\n",
    "        y = np.maximum(k,l)*v\n",
    "        if y < pdf_h(x, k, l):\n",
    "            break\n",
    "    return x"
   ]
  },
  {
   "attachments": {},
   "cell_type": "markdown",
   "id": "26016da8",
   "metadata": {},
   "source": [
    "<span style=\"color:red\">**16**</span>. Implement a function (**generate_population**) that takes the number of patients (W) as input and generates and returns a population of size (Wx6) using the functions implemented above.\n",
    "<br>\n",
    "<br>\n",
    "In other words, for W many patients, it should first generate A and B values and then calculate the C values for them. Then based on the patients’ computed C values, it should generate D, E, and H values. Finally, it should also plot the following:\n",
    "* a. In the same figure, plot the population histogram for A and the pmf of A.\n",
    "* b. In the same figure, plot the population histogram for B and the pdf of B.\n",
    "* c. Plot the population histogram for C and print the pmf of C estimated using the\n",
    "generated population.\n",
    "* d. In the same figure, plot the population histogram for D and the joint pdf of D with each\n",
    "possible value of C.\n",
    "* e. In the same figure, plot the population histogram for E and the joint pdf of D with each\n",
    "possible value of C."
   ]
  },
  {
   "cell_type": "code",
   "execution_count": 15,
   "id": "1f655fe7",
   "metadata": {},
   "outputs": [],
   "source": [
    "def generate_population(N):\n",
    "    population = np.zeros((N,6))\n",
    "    for i in range(N):\n",
    "        a = generate_a()\n",
    "        b = generate_b()\n",
    "        c = calculate_c(a,b)\n",
    "        d = generate_d(c)\n",
    "        e = generate_e(c)\n",
    "        h = generate_h(c)\n",
    "        population[i] = np.array([a,b,c,d,e,h])\n",
    "    ##Plot of part a:\n",
    "    plt.figure()\n",
    "    data = population[:, 0]\n",
    "    hist_values, bins, _ = plt.hist(data, bins=10, range=(0,10), label=\"Histogram of a\", density=\"True\")\n",
    "    x_values = np.empty(11)\n",
    "    pmf_values = np.empty(11)\n",
    "    for i in range(11):\n",
    "        x_values[i] = i\n",
    "        pmf_values[i] = pmf_a(i)\n",
    "        \n",
    "    plt.bar(x_values, pmf_values,width = 0.4 , align=\"edge\", color=\"yellow\", label=\"Pmf_a\")\n",
    "    plt.legend()\n",
    "    \n",
    "    ##Plot of part b:\n",
    "    plt.figure()\n",
    "    data = population[:, 1]\n",
    "    hist_values, bins, _ = plt.hist(data,bins=50, range=(0,6),label=\"Histogram of b\", density=\"True\")\n",
    "    x_values = np.empty(N)\n",
    "    pdf_values = np.empty(N)\n",
    "    for i in range(N):\n",
    "        x = i*(6/N) #To make the x values end on 6.\n",
    "        x_values[i] = x\n",
    "        pdf_values[i] = pdf_b(x)\n",
    "    plt.plot(x_values,pdf_values, label=\"Pdf_b\")\n",
    "    plt.legend()\n",
    "    \n",
    "    ##Plot of part c:\n",
    "    plt.figure()\n",
    "    data = population[:, 2]\n",
    "    hist_values, bins, _ = plt.hist(data, bins=3, range=(0,3),label=\"Histogram of c\", density=\"True\")\n",
    "    c0, c1, c2 = 0,0,0\n",
    "    for i in data:\n",
    "        if i == 0:\n",
    "            c0 += 1\n",
    "        elif i == 1:\n",
    "            c1 += 1\n",
    "        elif i == 2:\n",
    "            c2 += 1\n",
    "    print(f\"Estimated pmf of c: C(0) = {c0/N}, C(1) = {c1/N}, C(2) = {c2/N}\")\n",
    "    plt.legend()\n",
    "    \n",
    "    ##Plot of part d:\n",
    "    plt.figure()\n",
    "    data = population[:, 3]\n",
    "    hist_values, bins, _ = plt.hist(data, bins=40, range=(0,400),label=\"Histogram of d\", density=\"True\")\n",
    "    x_values = np.empty(N)\n",
    "    c0_pdf_values = np.empty(N)\n",
    "    c1_pdf_values = np.empty(N)\n",
    "    c2_pdf_values = np.empty(N)\n",
    "    for i in range(N):\n",
    "        x = i*(400/N) #To make the x values end on 400.\n",
    "        x_values[i] = x\n",
    "        c0_pdf_values[i] = pdf_d(x, 160, 30)\n",
    "        c1_pdf_values[i] = pdf_d(x, 200, 70)\n",
    "        c2_pdf_values[i] = pdf_d(x, 240, 50)\n",
    "    plt.plot(x_values,c0_pdf_values, label=\"c=0 pdf_d\")\n",
    "    plt.plot(x_values,c1_pdf_values, label=\"c=1 pdf_d\")\n",
    "    plt.plot(x_values,c2_pdf_values, label=\"c=2 pdf_d\")\n",
    "    plt.legend()\n",
    "    \n",
    "    ##Plot of part e:\n",
    "    plt.figure()\n",
    "    data = population[:, 4]\n",
    "    hist_values, bins, _ = plt.hist(data, bins=40, range=(1,2),label=\"Histogram of e\", density=\"True\")\n",
    "    x_values = np.empty(N)\n",
    "    c0_pdf_values = np.empty(N)\n",
    "    c1_pdf_values = np.empty(N)\n",
    "    c2_pdf_values = np.empty(N)\n",
    "    for i in range(N):\n",
    "        x = i*(2/N) #To make the x values end on 2.\n",
    "        x_values[i] = x\n",
    "        c0_pdf_values[i] = pdf_e(x, 0.1, 0.8)\n",
    "        c1_pdf_values[i] = pdf_e(x, 0.5, 0.5)\n",
    "        c2_pdf_values[i] = pdf_e(x, 0.9, 0.2)\n",
    "    plt.plot(x_values,c0_pdf_values, label=\"c=0 pdf_e\")\n",
    "    plt.plot(x_values,c1_pdf_values, label=\"c=1 pdf_e\")\n",
    "    plt.plot(x_values,c2_pdf_values, label=\"c=2 pdf_e\")\n",
    "    plt.legend()\n",
    "    \n",
    "    return population"
   ]
  },
  {
   "attachments": {},
   "cell_type": "markdown",
   "id": "6ecf8a2b",
   "metadata": {},
   "source": [
    "<span style=\"color:red\">**17**</span>. Generate a population of 1000 patients. It should be a 2D array of shape 1000x6 where the random variables appear in the order of A, B, C, D, E, and H."
   ]
  },
  {
   "cell_type": "code",
   "execution_count": 16,
   "id": "3ef891fa",
   "metadata": {},
   "outputs": [
    {
     "name": "stdout",
     "output_type": "stream",
     "text": [
      "Estimated pmf of c: C(0) = 0.138, C(1) = 0.536, C(2) = 0.326\n"
     ]
    },
    {
     "data": {
      "image/png": "[encoded data removed]",
      "text/plain": [
       "<Figure size 432x288 with 1 Axes>"
      ]
     },
     "metadata": {
      "needs_background": "light"
     },
     "output_type": "display_data"
    },
    {
     "data": {
      "image/png": "[encoded data removed]",
      "text/plain": [
       "<Figure size 432x288 with 1 Axes>"
      ]
     },
     "metadata": {
      "needs_background": "light"
     },
     "output_type": "display_data"
    },
    {
     "data": {
      "image/png": "[encoded data removed]",
      "text/plain": [
       "<Figure size 432x288 with 1 Axes>"
      ]
     },
     "metadata": {
      "needs_background": "light"
     },
     "output_type": "display_data"
    },
    {
     "data": {
      "image/png": "[encoded data removed]",
      "text/plain": [
       "<Figure size 432x288 with 1 Axes>"
      ]
     },
     "metadata": {
      "needs_background": "light"
     },
     "output_type": "display_data"
    },
    {
     "data": {
      "image/png": "[encoded data removed]",
      "text/plain": [
       "<Figure size 432x288 with 1 Axes>"
      ]
     },
     "metadata": {
      "needs_background": "light"
     },
     "output_type": "display_data"
    }
   ],
   "source": [
    "sample_population = generate_population(1000)"
   ]
  },
  {
   "attachments": {},
   "cell_type": "markdown",
   "id": "20dcd585",
   "metadata": {},
   "source": [
    "<span style=\"color:red\">**18**</span>. Similar to step 17, generate a population of 1000000 patients. **This will be your hypothetical population to be analyzed in the next tasks.** Compute and print the random variable means and variances for this population using <u><b><span style=\"color:green\">numpy.mean</span></b></u> and <u><b><span style=\"color:green\">numpy.var</span></b></u>"
   ]
  },
  {
   "cell_type": "code",
   "execution_count": 17,
   "id": "244c4484",
   "metadata": {},
   "outputs": [
    {
     "name": "stdout",
     "output_type": "stream",
     "text": [
      "Estimated pmf of c: C(0) = 0.145649, C(1) = 0.542095, C(2) = 0.312256\n",
      "E[a] = 0.99828, V(a) = 1.9912030415999995\n",
      "E[b] = 2.8583761213879524, V(b) = 0.9848737080934388\n",
      "E[c] = 1.166607, V(c) = 0.43014710755099983\n",
      "E[d] = 193.29877405920945, V(d) = 3999.0567438101884\n",
      "E[e] = 1.522502180958566, V(e) = 0.04898962815022134\n",
      "E[h] = 1.1497596144615068, V(h) = 0.3107426126162735\n"
     ]
    },
    {
     "data": {
      "image/png": "[encoded data removed]",
      "text/plain": [
       "<Figure size 432x288 with 1 Axes>"
      ]
     },
     "metadata": {
      "needs_background": "light"
     },
     "output_type": "display_data"
    },
    {
     "data": {
      "image/png": "[encoded data removed]",
      "text/plain": [
       "<Figure size 432x288 with 1 Axes>"
      ]
     },
     "metadata": {
      "needs_background": "light"
     },
     "output_type": "display_data"
    },
    {
     "data": {
      "image/png": "[encoded data removed]",
      "text/plain": [
       "<Figure size 432x288 with 1 Axes>"
      ]
     },
     "metadata": {
      "needs_background": "light"
     },
     "output_type": "display_data"
    },
    {
     "data": {
      "image/png": "[encoded data removed]",
      "text/plain": [
       "<Figure size 432x288 with 1 Axes>"
      ]
     },
     "metadata": {
      "needs_background": "light"
     },
     "output_type": "display_data"
    },
    {
     "data": {
      "image/png": "[encoded data removed]",
      "text/plain": [
       "<Figure size 432x288 with 1 Axes>"
      ]
     },
     "metadata": {
      "needs_background": "light"
     },
     "output_type": "display_data"
    }
   ],
   "source": [
    "population = generate_population(1000000)\n",
    "\n",
    "print(f\"E[a] = {np.mean(population[:,0])}, V(a) = {np.var(population[:,0])}\")\n",
    "print(f\"E[b] = {np.mean(population[:,1])}, V(b) = {np.var(population[:,1])}\")\n",
    "print(f\"E[c] = {np.mean(population[:,2])}, V(c) = {np.var(population[:,2])}\")\n",
    "print(f\"E[d] = {np.mean(population[:,3])}, V(d) = {np.var(population[:,3])}\")\n",
    "print(f\"E[e] = {np.mean(population[:,4])}, V(e) = {np.var(population[:,4])}\")\n",
    "print(f\"E[h] = {np.mean(population[:,5])}, V(h) = {np.var(population[:,5])}\")"
   ]
  },
  {
   "attachments": {},
   "cell_type": "markdown",
   "id": "6a6bceb0",
   "metadata": {},
   "source": [
    "<span style=\"color:blue\">**19**</span>. Copy your figures from steps 17 and 18 into your report so that the two plots for each variable are side by side. You should observe that when the number of generated patients increases, the population statistics converge to the actual PMF/PDF."
   ]
  },
  {
   "attachments": {},
   "cell_type": "markdown",
   "id": "1132f590",
   "metadata": {},
   "source": [
    "### Answer it in your report!"
   ]
  },
  {
   "attachments": {},
   "cell_type": "markdown",
   "id": "f19f030f",
   "metadata": {},
   "source": [
    "### TASK 2: Sampling and Descriptive Statistics\n",
    "<br>\n",
    "<br>\n",
    "Your second task is to take samples from your population and compute and visualize some descriptive statistics for each sample. If you fail to accomplish Task 1, you can load the <u><b>population.txt</b></u> file provided along with this assignment as a NumPy array using <u><b><span style=\"color:green\">numpy.loadtxt.</span></b></u>\n",
    "<br>\n",
    "<br>\n",
    "Firstly, you have to implement the sampler function to take samples from the population. You are <u><b>not allowed</b></u> to use any number generator function other than <u><b><span style=\"color:green\">numpy.random.random</span></b></u>. Next, you must implement estimators for the population mean and variance. You are <u><b>not allowed</b></u> to use <u><b><span style=\"color:green\">numpy.mean</span></b></u>, <u><b><span style=\"color:green\">numpy.std</span></b></u>, or <u><b><span style=\"color:green\">numpy.var</span></b></u> functions. To have a better insight into the performances of these estimators, you should take multiple samples to estimate from and plot the histograms of the estimations with indicators for the actual population mean and variance.\n",
    "<br>\n",
    "<br>\n",
    "Here are the detailed steps:"
   ]
  },
  {
   "attachments": {},
   "cell_type": "markdown",
   "id": "3e505634",
   "metadata": {},
   "source": [
    "<span style=\"color:red\">**1**</span>. Implement a function (**random_sample**) that takes a population and a sample size (n) as inputs and returns a random sample of that population with dimensions of nx6 where the random variables appear in the same order as the population.\n",
    "<br>\n",
    "<br>\n",
    "<u>For the next steps, a column of that population sample (nx1) will be referred to as a <b>sample.</b><u>\n",
    "The first column is a sample of A; the second column is a sample of B, and so on."
   ]
  },
  {
   "cell_type": "code",
   "execution_count": 18,
   "id": "09dc1d87",
   "metadata": {},
   "outputs": [],
   "source": [
    "def random_sample(population, sample_size):\n",
    "    randoms = np.random.random((sample_size, ))*len(population)\n",
    "    sorted_randoms = np.sort(randoms)\n",
    "    sample = np.zeros((sample_size, 6))\n",
    "    for i in range(sample_size):\n",
    "        sample[i] = population[int(sorted_randoms[i])]\n",
    "    return sample"
   ]
  },
  {
   "attachments": {},
   "cell_type": "markdown",
   "id": "279e4465",
   "metadata": {},
   "source": [
    "<span style=\"color:red\">**2**</span>. Implement a function (**estimate_mean**) that estimates the population mean of a variable with\n",
    "its sample mean. It should take a sample and return an estimation for the mean."
   ]
  },
  {
   "cell_type": "code",
   "execution_count": 19,
   "id": "22f33200",
   "metadata": {},
   "outputs": [],
   "source": [
    "def estimate_mean(sample):\n",
    "    sum = 0\n",
    "    for elem in sample:\n",
    "        sum += elem\n",
    "    return sum/len(sample)"
   ]
  },
  {
   "attachments": {},
   "cell_type": "markdown",
   "id": "d2111f1a",
   "metadata": {},
   "source": [
    "<span style=\"color:red\">**3**</span>. Implement a function (**estimate_variance_1**) that estimates the population variance of a\n",
    "variable using its sample with the formula below. It should take a sample and return an estimation for the variance.\n",
    "<br>\n",
    "<br>\n",
    "$$s^2 = ∑_{i=1}^N (X_i - \\bar{X})^2 / (n-1)$$"
   ]
  },
  {
   "cell_type": "code",
   "execution_count": 20,
   "id": "9d9ccddd",
   "metadata": {},
   "outputs": [],
   "source": [
    "def estimate_variance_1(sample):\n",
    "    mean = estimate_mean(sample)\n",
    "    var = 0\n",
    "    for i in range(len(sample)):\n",
    "        var += ((sample[i] - mean)**2)\n",
    "    return var/(len(sample)-1)"
   ]
  },
  {
   "attachments": {},
   "cell_type": "markdown",
   "id": "b03578cb",
   "metadata": {},
   "source": [
    "<span style=\"color:red\">**4**</span>. Implement a function (**estimate_variance_2**) that estimates the population variance for a variable using its sample with the formula below. It should take a sample and return an estimation for the variance.\n",
    "<br>\n",
    "<br>\n",
    "$$s^2 = ∑_{i=1}^N (X_i - \\bar{X})^2 / n$$"
   ]
  },
  {
   "cell_type": "code",
   "execution_count": 21,
   "id": "20dc79b9",
   "metadata": {},
   "outputs": [],
   "source": [
    "def estimate_variance_2(sample):\n",
    "    mean = estimate_mean(sample)\n",
    "    var = 0\n",
    "    for i in range(len(sample)):\n",
    "        var += ((sample[i] - mean)**2)\n",
    "    return var/(len(sample))"
   ]
  },
  {
   "attachments": {},
   "cell_type": "markdown",
   "id": "cee352b0",
   "metadata": {},
   "source": [
    "<span style=\"color:red\">**5**</span>. Implement a function (**descriptive_stats**) that takes a population, sample size (n), number of sampling (m), and variable index as input. It returns lists of estimated means and variances of type 1 and type 2 using the previously implemented functions. In other words, it should take a sample of size n from the population m times and create descriptive statistics lists of length m for the variable at the given index."
   ]
  },
  {
   "cell_type": "code",
   "execution_count": 22,
   "id": "15c28813",
   "metadata": {},
   "outputs": [],
   "source": [
    "def descriptive_stats(population, sample_size, num_sampling, var):\n",
    "    est_means = np.empty(num_sampling)\n",
    "    est_variances_1 = np.empty(num_sampling)\n",
    "    est_variances_2 = np.empty(num_sampling)\n",
    "    for i in range(num_sampling):\n",
    "        sample = random_sample(population, sample_size)\n",
    "        var_sample = sample[:, var]\n",
    "        est_means[i] = estimate_mean(var_sample)\n",
    "        est_variances_1[i] = estimate_variance_1(var_sample)\n",
    "        est_variances_2[i] = estimate_variance_2(var_sample)\n",
    "    \n",
    "    return (est_means, est_variances_1, est_variances_2)"
   ]
  },
  {
   "attachments": {},
   "cell_type": "markdown",
   "id": "66e1ce54",
   "metadata": {},
   "source": [
    "<span style=\"color:blue\">**6**</span>. Calculate the theoretical mean and variance of variable A."
   ]
  },
  {
   "attachments": {},
   "cell_type": "markdown",
   "id": "b847a6fb",
   "metadata": {},
   "source": [
    "### Answer it in your report!"
   ]
  },
  {
   "attachments": {},
   "cell_type": "markdown",
   "id": "4d50982a",
   "metadata": {},
   "source": [
    "<span style=\"color:red\">**7**</span>. Call the **descriptive_stats** function for variable A with the sample size as 100 and the number of samples as 10000.\n",
    "<br>\n",
    "<br>\n",
    "* a. In the same figure, plot the histogram of the estimated means, a vertical line at the average of the estimated means, and a vertical line at the theoretical mean.\n",
    "* b. In the same figure, plot the histogram of the estimated variances of type 1, a vertical line at the average of the estimated variances of type 1, and a vertical line at the theoretical variance.\n",
    "* c. In the same figure, plot the histogram of the estimated variances of type 2, a vertical line at the average of the estimated variances of type 2, and a vertical line at the theoretical variance."
   ]
  },
  {
   "cell_type": "code",
   "execution_count": 23,
   "id": "d49405f0",
   "metadata": {},
   "outputs": [
    {
     "data": {
      "text/plain": [
       "<matplotlib.legend.Legend at 0x1776fc339a0>"
      ]
     },
     "execution_count": 23,
     "metadata": {},
     "output_type": "execute_result"
    },
    {
     "data": {
      "image/png": "[encoded data removed]",
      "text/plain": [
       "<Figure size 432x288 with 1 Axes>"
      ]
     },
     "metadata": {
      "needs_background": "light"
     },
     "output_type": "display_data"
    },
    {
     "data": {
      "image/png": "[encoded data removed]",
      "text/plain": [
       "<Figure size 432x288 with 1 Axes>"
      ]
     },
     "metadata": {
      "needs_background": "light"
     },
     "output_type": "display_data"
    },
    {
     "data": {
      "image/png": "[encoded data removed]",
      "text/plain": [
       "<Figure size 432x288 with 1 Axes>"
      ]
     },
     "metadata": {
      "needs_background": "light"
     },
     "output_type": "display_data"
    }
   ],
   "source": [
    "a_mean, a_var1, a_var2 = descriptive_stats(population, 100, 10000, 0)\n",
    "a_mean_avg = estimate_mean(a_mean)\n",
    "a_var1_avg = estimate_mean(a_var1)\n",
    "a_var2_avg = estimate_mean(a_var2)\n",
    "\n",
    "# Part a\n",
    "plt.figure()\n",
    "hist_values, bins, _ = plt.hist(a_mean, bins=20, range=(0.5,1.5), label=\"Histogram of a_mean\")\n",
    "plt.axvline(x=a_mean_avg, color='red', linestyle='solid', label='Average_mean')\n",
    "plt.axvline(x=1, color='blue', linestyle='dashed', label='Theoretical mean')\n",
    "plt.legend()\n",
    "\n",
    "# Part b\n",
    "plt.figure()\n",
    "hist_values, bins, _ = plt.hist(a_var1, bins=25, range=(0,5), label=\"Histogram of a_var1\")\n",
    "plt.axvline(x=a_var1_avg, color='red', linestyle='solid', label='Average var1')\n",
    "plt.axvline(x=2, color='blue', linestyle='dashed', label='Theoretical var')\n",
    "plt.legend()\n",
    "\n",
    "# Part c\n",
    "plt.figure()\n",
    "hist_values, bins, _ = plt.hist(a_var2, bins=25, range=(0,5), label=\"Histogram of a_var2\")\n",
    "plt.axvline(x=a_var2_avg, color='red', linestyle='solid', label='Average var2')\n",
    "plt.axvline(x=2, color='blue', linestyle='dashed', label='Theoretical var')\n",
    "plt.legend()"
   ]
  },
  {
   "attachments": {},
   "cell_type": "markdown",
   "id": "5e10777e",
   "metadata": {},
   "source": [
    "<span style=\"color:blue\">**8**</span>. Copy your figures from step 7 into your report. What do the figures analyze? What is your conclusion?"
   ]
  },
  {
   "attachments": {},
   "cell_type": "markdown",
   "id": "deb8ce40",
   "metadata": {},
   "source": [
    "### Answer it in your report!"
   ]
  },
  {
   "attachments": {},
   "cell_type": "markdown",
   "id": "11396a6f",
   "metadata": {},
   "source": [
    "<span style=\"color:red\">**9**</span>. Call the **descriptive_stats** function for variable A with the sample size as (100, 200, 300, …,5000) and the number of samples as 500. Compute the variances of the estimated means and the estimated variances of type 1 for each sample size and create the sample size v.s. variance plot for both of them in the same figure."
   ]
  },
  {
   "cell_type": "code",
   "execution_count": 24,
   "id": "1aa1d604",
   "metadata": {},
   "outputs": [
    {
     "data": {
      "text/plain": [
       "<matplotlib.legend.Legend at 0x1776f22d730>"
      ]
     },
     "execution_count": 24,
     "metadata": {},
     "output_type": "execute_result"
    },
    {
     "data": {
      "image/png": "[encoded data removed]",
      "text/plain": [
       "<Figure size 432x288 with 1 Axes>"
      ]
     },
     "metadata": {
      "needs_background": "light"
     },
     "output_type": "display_data"
    }
   ],
   "source": [
    "sample_sizes = np.empty(50)\n",
    "vars_of_means = np.empty(50)\n",
    "vars_of_var1s = np.empty(50)\n",
    "for i in range(1,51):\n",
    "    sample_size = i*100\n",
    "    a_mean, a_var1, a_var2 = descriptive_stats(population, sample_size, 500, 0)\n",
    "    sample_sizes[i-1] = sample_size\n",
    "    vars_of_means[i-1] = estimate_variance_2(a_mean)\n",
    "    vars_of_var1s[i-1] = estimate_variance_2(a_var1)\n",
    "\n",
    "plt.figure()\n",
    "plt.plot(sample_sizes, vars_of_means, label=\"Variances of means\")\n",
    "plt.plot(sample_sizes, vars_of_var1s, label=\"Variances of var1s\")\n",
    "plt.legend()\n"
   ]
  },
  {
   "attachments": {},
   "cell_type": "markdown",
   "id": "31467ea5",
   "metadata": {},
   "source": [
    "<span style=\"color:blue\">**10**</span>. Copy your figure from step 9 into your report. What does this figure analyze? What is your conclusion?"
   ]
  },
  {
   "attachments": {},
   "cell_type": "markdown",
   "id": "c8e44c3e",
   "metadata": {},
   "source": [
    "### Answer it in your report!"
   ]
  },
  {
   "attachments": {},
   "cell_type": "markdown",
   "id": "ca6324f3",
   "metadata": {},
   "source": [
    "### TASK 3: Parameter Estimation\n",
    "<br>\n",
    "<br>\n",
    "Your third task is to estimate some of the distribution parameters using the Method of Moments and the Method of Maximum Likelihood.\n",
    "<br>\n",
    "<br>\n",
    "Here are the detailed steps:"
   ]
  },
  {
   "attachments": {},
   "cell_type": "markdown",
   "id": "c919136d",
   "metadata": {},
   "source": [
    "<span style=\"color:blue\">**1**</span>. For variable D, search online and find out about the Maximum Likelihood estimation of the normal distribution parameters. Add these findings to your report."
   ]
  },
  {
   "attachments": {},
   "cell_type": "markdown",
   "id": "877921e4",
   "metadata": {},
   "source": [
    "### Answer it in your report!"
   ]
  },
  {
   "attachments": {},
   "cell_type": "markdown",
   "id": "81ecc95b",
   "metadata": {},
   "source": [
    "<span style=\"color:red\">**2**</span>. Implement a function (**estimate_mml_d**) that takes a sample of D and returns the Method of Maximum Likelihood estimations for μ and σ. You can use previously implemented functions."
   ]
  },
  {
   "cell_type": "code",
   "execution_count": 25,
   "id": "88b4c186",
   "metadata": {},
   "outputs": [],
   "source": [
    "def estimate_mml_d(sample):\n",
    "    \n",
    "    mu = estimate_mean(sample)\n",
    "    sigma = np.sqrt(estimate_variance_2(sample))\n",
    "    \n",
    "    return mu, sigma"
   ]
  },
  {
   "attachments": {},
   "cell_type": "markdown",
   "id": "d7bf5f23",
   "metadata": {},
   "source": [
    "<span style=\"color:blue\">**3**</span>. For variable E, calculate the estimators for its parameters i and j using the Method of Moments. As a result of your calculations, you should reach a point where you have 𝑓(𝑗) = 0 equation such that f is a function with fractional exponents and g(j)=i where g is another\n",
    "function to calculate i using j."
   ]
  },
  {
   "attachments": {},
   "cell_type": "markdown",
   "id": "8ae0fd1b",
   "metadata": {},
   "source": [
    "### Answer it in your report!"
   ]
  },
  {
   "attachments": {},
   "cell_type": "markdown",
   "id": "16344232",
   "metadata": {},
   "source": [
    "<span style=\"color:red\">**4**</span>. Implement a function (**estimate_mom_e**) that takes a sample of E and returns the Method of Moments estimations for i and j. You should use **sympy**’s solver to find j using the following code where you have to replace f(j) with your function expression:\n",
    "```python\n",
    "j = sympy.S('j')\n",
    "sol = sympy.solve(f(j), j)\n",
    "ind = 0\n",
    "while True:\n",
    "    j = float(sol[ind].as_real_imag()[0])\n",
    "    ind += 1\n",
    "    if j >= 0:\n",
    "        break\n",
    "```\n",
    "After this point, you should be able to compute i using g(j)."
   ]
  },
  {
   "cell_type": "code",
   "execution_count": 26,
   "id": "a71308db",
   "metadata": {},
   "outputs": [],
   "source": [
    "def estimate_mom_e(sample):\n",
    "     mom_1 = estimate_mean(sample)\n",
    "     mom_2 = 0\n",
    "     for i in sample:\n",
    "          mom_2 += i**2\n",
    "     mom_2 /= len(sample)\n",
    "\n",
    "     def g(j):\n",
    "          return mom_1 - (2/3)*(((j+1)**(3/2)) - (j**(3/2)))\n",
    "     def f(j):\n",
    "          i = g(j)\n",
    "          return ((4*i)/3) * (((j+1)**(3/2)) - (j**(3/2))) + (i**2) + j + 1/2 - mom_2\n",
    "     \n",
    "     j = sp.S('j')\n",
    "     sol = sp.solve(f(j), j)\n",
    "     ind = 0\n",
    "     while True:\n",
    "          j = float(sol[ind].as_real_imag()[0])\n",
    "          ind += 1\n",
    "          if j >= 0:\n",
    "               break\n",
    "     i = g(j)\n",
    "\n",
    "     return i, j\n",
    "\n",
    "##I have written an optimized version with scipy since the one with sympy couldn't solve my equation in 20 minutes for once.Scipy does it in 0.1 seconds. \n",
    "def optimized_estimate_mom_e(sample):\n",
    "     mom_1 = estimate_mean(sample)\n",
    "     mom_2 = 0\n",
    "     for i in sample:\n",
    "          mom_2 += i**2\n",
    "     mom_2 /= len(sample)\n",
    "\n",
    "     def g(j):\n",
    "          return mom_1 - (2/3)*(((j+1)**(3/2)) - (j**(3/2)))\n",
    "     def f(j):\n",
    "          i = g(j)\n",
    "          return ((4*i)/3) * (((j+1)**(3/2)) - (j**(3/2))) + (i**2) + j + 1/2 - mom_2\n",
    "     \n",
    "     j = optimize.fsolve(f, 0)\n",
    "     i = g(j)\n",
    "\n",
    "     return i, j"
   ]
  },
  {
   "attachments": {},
   "cell_type": "markdown",
   "id": "e0f922f9",
   "metadata": {},
   "source": [
    "<span style=\"color:blue\">**5**</span>. For variable H, compute the estimator for its parameters k and l using the Method of Maximum Likelihood."
   ]
  },
  {
   "attachments": {},
   "cell_type": "markdown",
   "id": "dfe69721",
   "metadata": {},
   "source": [
    "### Answer it in your report!"
   ]
  },
  {
   "attachments": {},
   "cell_type": "markdown",
   "id": "c1252f79",
   "metadata": {},
   "source": [
    "<span style=\"color:red\">**6**</span>. Implement a function (**estimate_mml_h**) that takes a sample of H and returns the Method of Maximum Likelihood estimations for k."
   ]
  },
  {
   "cell_type": "code",
   "execution_count": 27,
   "id": "b04f03bc",
   "metadata": {},
   "outputs": [],
   "source": [
    "def estimate_mml_h(sample):\n",
    "    n1 = 0\n",
    "    n2 = 0\n",
    "    for i in sample:\n",
    "        if i>=0 and i<=1:\n",
    "            n1 += 1\n",
    "        else:\n",
    "            n2 += 1\n",
    "    \n",
    "    k = n1/(n1+n2)\n",
    "    return k, 1-k"
   ]
  },
  {
   "attachments": {},
   "cell_type": "markdown",
   "id": "72fd01f1",
   "metadata": {},
   "source": [
    "<span style=\"color:red\">**7**</span>. Implement a function (**parameter_estimation**) that takes a population, sample size (n), the number of sampling (m) and patient category as input. Using the previously implemented functions, it samples from <u>a subset of the population where the patient is in the given category</u> and returns lists of estimated parameters of variables D, E, and H."
   ]
  },
  {
   "cell_type": "code",
   "execution_count": 28,
   "id": "7c5b1a48",
   "metadata": {},
   "outputs": [],
   "source": [
    "def parameter_estimation(population, sample_size, num_sampling, c):\n",
    "    d_sample = []\n",
    "    e_sample = []\n",
    "    h_sample = []\n",
    "    est_dmu, est_dsigma, est_ei, est_ej, est_hk, est_hl=np.empty(num_sampling),np.empty(num_sampling),np.empty(num_sampling),np.empty(num_sampling),np.empty(num_sampling),np.empty(num_sampling)\n",
    "    for i in range(num_sampling):\n",
    "        sample = random_sample(population, sample_size)\n",
    "        for j in range(len(sample)):\n",
    "            if sample[j,2] == c:\n",
    "                d_sample.append(sample[j,3])\n",
    "                e_sample.append(sample[j,4])\n",
    "                h_sample.append(sample[j,5])\n",
    "        est_dmu[i], est_dsigma[i] = estimate_mml_d(np.array(d_sample))\n",
    "        est_ei[i], est_ej[i] = optimized_estimate_mom_e(np.array(e_sample))\n",
    "        est_hk[i], est_hl[i] = estimate_mml_h(np.array(h_sample))\n",
    "\n",
    "    return est_dmu, est_dsigma, est_ei, est_ej, est_hk, est_hl"
   ]
  },
  {
   "attachments": {},
   "cell_type": "markdown",
   "id": "aa62a010",
   "metadata": {},
   "source": [
    "<span style=\"color:red\">**8**</span>. Call the parameter_estimation function for the “very risky” patient category with the sample size as 100 and the number of samples as 1000.\n",
    "* a. In the same figure, plot the histogram of the estimated i parameter of E, a vertical line at the average of the estimations, and a vertical line at the actual i value.\n",
    "* b. In the same figure, plot the histogram of the estimated j parameter of E, a vertical line at the average of the estimations, and a vertical line at the actual i value.\n",
    "* c. In the same figure, plot the histogram of the estimated k parameter of H, a vertical line at the average of the estimations, and a vertical line at the actual i value.\n",
    "* d. In the same figure, plot the histogram of the estimated i parameter of H, a vertical line at the average of the estimations, and a vertical line at the actual i value."
   ]
  },
  {
   "cell_type": "code",
   "execution_count": 29,
   "id": "dad23df2",
   "metadata": {},
   "outputs": [
    {
     "data": {
      "text/plain": [
       "<matplotlib.legend.Legend at 0x1776fa45e20>"
      ]
     },
     "execution_count": 29,
     "metadata": {},
     "output_type": "execute_result"
    },
    {
     "data": {
      "image/png": "[encoded data removed]",
      "text/plain": [
       "<Figure size 432x288 with 1 Axes>"
      ]
     },
     "metadata": {
      "needs_background": "light"
     },
     "output_type": "display_data"
    },
    {
     "data": {
      "image/png": "[encoded data removed]",
      "text/plain": [
       "<Figure size 432x288 with 1 Axes>"
      ]
     },
     "metadata": {
      "needs_background": "light"
     },
     "output_type": "display_data"
    },
    {
     "data": {
      "image/png": "[encoded data removed]",
      "text/plain": [
       "<Figure size 432x288 with 1 Axes>"
      ]
     },
     "metadata": {
      "needs_background": "light"
     },
     "output_type": "display_data"
    },
    {
     "data": {
      "image/png": "[encoded data removed]",
      "text/plain": [
       "<Figure size 432x288 with 1 Axes>"
      ]
     },
     "metadata": {
      "needs_background": "light"
     },
     "output_type": "display_data"
    }
   ],
   "source": [
    "est_dmu, est_dsigma, est_ei, est_ej, est_hk, est_hl = parameter_estimation(population, 100, 1000, 2)\n",
    "\n",
    "## Part a:\n",
    "plt.figure()\n",
    "hist_values, bins, _ = plt.hist(est_ei, bins=20, label=\"Histogram of e_i\")\n",
    "plt.axvline(x=estimate_mean(est_ei), color='red', linestyle='solid', label='Sample average of e_i')\n",
    "plt.axvline(x=0.9, color='blue', linestyle='dashed', label='Theoretical e_i')\n",
    "plt.legend()\n",
    "\n",
    "## Part b:\n",
    "plt.figure()\n",
    "hist_values, bins, _ = plt.hist(est_ej, bins=20, label=\"Histogram of e_j\")\n",
    "plt.axvline(x=estimate_mean(est_ej), color='red', linestyle='solid', label='Sample average of e_j')\n",
    "plt.axvline(x=0.2, color='blue', linestyle='dashed', label='Theoretical e_j')\n",
    "plt.legend()\n",
    "\n",
    "## Part c:\n",
    "plt.figure()\n",
    "hist_values, bins, _ = plt.hist(est_hk, bins=20, label=\"Histogram of h_k\")\n",
    "plt.axvline(x=estimate_mean(est_hk), color='red', linestyle='solid', label='Sample average of h_k')\n",
    "plt.axvline(x=0.1, color='blue', linestyle='dashed', label='Theoretical h_k')\n",
    "plt.legend()\n",
    "\n",
    "## Part d:\n",
    "plt.figure()\n",
    "hist_values, bins, _ = plt.hist(est_hl, bins=20,label=\"Histogram of h_l\")\n",
    "plt.axvline(x=estimate_mean(est_hl), color='red', linestyle='solid', label='Sample average of h_l')\n",
    "plt.axvline(x=0.9, color='blue', linestyle='dashed', label='Theoretical h_l')\n",
    "plt.legend()"
   ]
  },
  {
   "attachments": {},
   "cell_type": "markdown",
   "id": "ba93efbe",
   "metadata": {},
   "source": [
    "<span style=\"color:blue\">**9**</span>. Copy your figures from step 8 into your report."
   ]
  },
  {
   "attachments": {},
   "cell_type": "markdown",
   "id": "d7c39edb",
   "metadata": {},
   "source": [
    "### Answer it in your report!"
   ]
  },
  {
   "attachments": {},
   "cell_type": "markdown",
   "id": "7c10c195",
   "metadata": {},
   "source": [
    "### TASK 4: Confidence intervals\n",
    "<br>\n",
    "<br>\n",
    "Your fourth task is to calculate confidence intervals for the population mean of variable A.\n",
    "<br>\n",
    "<br>\n",
    "Here are the detailed steps:"
   ]
  },
  {
   "attachments": {},
   "cell_type": "markdown",
   "id": "53e99253",
   "metadata": {},
   "source": [
    "<span style=\"color:red\">**1**</span>. Implement a function (**calc_conf_int_mean**) that takes a population, sample size (n), variable index, population standard deviation for that variable, and the confidence level as input. Using a look-up dictionary for quantiles z<sub>0.1</sub>, z<sub>0.05</sub>, z<sub>0.025</sub>, z<sub>0.01</sub>, and z<sub>0.05</sub>, it computes and returns a confidence interval for the population mean of the requested variable."
   ]
  },
  {
   "cell_type": "code",
   "execution_count": 30,
   "id": "c57415d0",
   "metadata": {},
   "outputs": [],
   "source": [
    "def calc_conf_int_mean(population, sample_size, var, pop_std, conf_lvl):\n",
    "    z_dict = {0.1: 1.282, 0.05:1.645, 0.025:1.960, 0.01:2.326, 0.005:2.576}\n",
    "\n",
    "    sample = random_sample(population, sample_size)\n",
    "    var_sample = sample[:, var]\n",
    "    sample_mean = estimate_mean(var_sample)\n",
    "    z_value = z_dict[round((1-conf_lvl)/2,3)] #This is done because of the roundoff errors when computing 1-conf_lvl.\n",
    "    margin = z_value*(pop_std / np.sqrt(sample_size))\n",
    "    conf_int = (sample_mean - margin, sample_mean + margin)\n",
    "    return conf_int"
   ]
  },
  {
   "attachments": {},
   "cell_type": "markdown",
   "id": "2af9a9b2",
   "metadata": {},
   "source": [
    "<span style=\"color:red\">**2**</span>. For random variable A and sample size of 1000, compute the confidence intervals for 20 different samples for both confidence levels as 0.98 and 0.8, using the calc_conf_int_mean function.\n",
    "* a. In the same figure, plot the computed confidence intervals for level 0.98, confidence intervals for level 0.8, and a vertical line at the actual population mean for A."
   ]
  },
  {
   "cell_type": "code",
   "execution_count": 31,
   "id": "6920dd07",
   "metadata": {},
   "outputs": [
    {
     "data": {
      "text/plain": [
       "<matplotlib.legend.Legend at 0x177759d0cd0>"
      ]
     },
     "execution_count": 31,
     "metadata": {},
     "output_type": "execute_result"
    },
    {
     "data": {
      "image/png": "[encoded data removed]",
      "text/plain": [
       "<Figure size 432x288 with 1 Axes>"
      ]
     },
     "metadata": {
      "needs_background": "light"
     },
     "output_type": "display_data"
    }
   ],
   "source": [
    "conf_intervals_98 = []\n",
    "conf_intervals_80 = []\n",
    "x = []\n",
    "plt.figure()\n",
    "for i in range(20):\n",
    "    y_value = i/2\n",
    "    conf_int98 = calc_conf_int_mean(population, 1000, 0, np.sqrt(2), 0.98)\n",
    "    conf_int80 = calc_conf_int_mean(population, 1000, 0, np.sqrt(2), 0.8)\n",
    "    plt.hlines(y=y_value, xmin=conf_int98[0], xmax=conf_int98[1],color=\"red\",linestyle=\"solid\")\n",
    "    plt.hlines(y=y_value+10, xmin=conf_int80[0], xmax=conf_int80[1], color=\"blue\", linestyles=\"solid\")\n",
    "plt.axvline(x=1, color=\"green\", linestyle=\"dashed\", label=\"Actual mean\")\n",
    "\n",
    "plt.vlines(x=0.6,ymin=0, ymax=0, color=\"red\", linestyles=\"solid\", label=\"0.98 conf_int\")#These two are here only for labeling purposes.\n",
    "plt.vlines(x=0.6,ymin=0, ymax=0, color=\"blue\", linestyles=\"solid\", label=\"0.8 conf_int\")\n",
    "\n",
    "ax = plt.gca()\n",
    "ax.set_xlim(0.7,1.3)\n",
    "\n",
    "plt.legend()"
   ]
  },
  {
   "attachments": {},
   "cell_type": "markdown",
   "id": "ba348a31",
   "metadata": {},
   "source": [
    "<span style=\"color:blue\">**3**</span>. Copy your figure from step 2 into your report. How do the confidence intervals change with respect to the confidence levels? Comment on your findings."
   ]
  },
  {
   "attachments": {},
   "cell_type": "markdown",
   "id": "12aa7985",
   "metadata": {},
   "source": [
    "### Answer it in your report!"
   ]
  },
  {
   "attachments": {},
   "cell_type": "markdown",
   "id": "160bf6e3",
   "metadata": {},
   "source": [
    "<span style=\"color:red\">**4**</span>. For random variable A and a confidence level of 0.9, compute the confidence intervals for the sample size of [ 100, 400, …, 4900] using the calc_conf_int_mean function.\n",
    "* a. In the same figure, plot the computed confidence intervals with varying sample sizes and a vertical line at the actual population mean for A."
   ]
  },
  {
   "cell_type": "code",
   "execution_count": 32,
   "id": "6e7afb8a",
   "metadata": {},
   "outputs": [
    {
     "data": {
      "text/plain": [
       "<matplotlib.legend.Legend at 0x17772b23d30>"
      ]
     },
     "execution_count": 32,
     "metadata": {},
     "output_type": "execute_result"
    },
    {
     "data": {
      "image/png": "[encoded data removed]",
      "text/plain": [
       "<Figure size 432x288 with 1 Axes>"
      ]
     },
     "metadata": {
      "needs_background": "light"
     },
     "output_type": "display_data"
    }
   ],
   "source": [
    "plt.figure()\n",
    "ax = plt.gca()\n",
    "ax.set_xlim(0.5,1.5)\n",
    "ax.set_ylabel(\"Sample size\")\n",
    "for i in range(17):\n",
    "    sample_size = 100 + (i*300)\n",
    "    conf_int = calc_conf_int_mean(population, sample_size, 0, np.sqrt(2), 0.9)\n",
    "    plt.hlines(y=sample_size, xmin=conf_int[0], xmax=conf_int[1],color=\"red\",linestyle=\"solid\")\n",
    "\n",
    "plt.axvline(x=1, color=\"green\", linestyle=\"dashed\", label=\"Actual mean\")\n",
    "\n",
    "plt.vlines(x=0,ymin=0, ymax=0, color=\"red\", linestyles=\"solid\", label=\"conf_int\")#This is here just to label intervals\n",
    "\n",
    "plt.legend()"
   ]
  },
  {
   "attachments": {},
   "cell_type": "markdown",
   "id": "4b27aa14",
   "metadata": {},
   "source": [
    "<span style=\"color:blue\">**5**</span>. Copy your figure from step 4 into your report. How do the confidence intervals change with respect to the sample sizes? Comment on your findings."
   ]
  },
  {
   "attachments": {},
   "cell_type": "markdown",
   "id": "3c77851e",
   "metadata": {},
   "source": [
    "### Answer it in your report!"
   ]
  },
  {
   "attachments": {},
   "cell_type": "markdown",
   "id": "d166984d",
   "metadata": {},
   "source": [
    "### TASK 5: Hypothesis testing\n",
    "<br>\n",
    "<br>\n",
    "<span style=\"color:blue\"><b>Your fifth task</b></span> is to do hypothesis testing for the case given below. The answer should only be included in your report.\n",
    "<br>\n",
    "<br>\n",
    "After a year-long national publicity campaign on physical fitness, a hospital embarks on a mission to determine if the campaign has been effective. For this purpose, they survey 500 randomly selected patients and find out that their average exercise frequency is now 1.2. Assuming that the standard deviation of exercise frequency has not changed, does this mean that, at a 3% significance level, the mean number of times a patient engages in physical exercise each week has increased? Explain your steps clearly."
   ]
  },
  {
   "attachments": {},
   "cell_type": "markdown",
   "id": "d1797b9f",
   "metadata": {},
   "source": [
    "### Answer it in your report!"
   ]
  },
  {
   "attachments": {},
   "cell_type": "markdown",
   "id": "444a848a",
   "metadata": {},
   "source": [
    "### TASK 6: Naive Bayes classifier\n",
    "<br>\n",
    "<br>\n",
    "Your last task is to apply and evaluate the Naive Bayes classifier for our population.\n",
    "<br>\n",
    "<br>\n",
    "Here are the detailed steps:"
   ]
  },
  {
   "attachments": {},
   "cell_type": "markdown",
   "id": "2df28ab1",
   "metadata": {},
   "source": [
    "<span style=\"color:red\">**1**</span>. Implement a function (**estimate_parameters**) that takes a population sample, and using the previously implemented functions, it estimates and returns the category-conditioned probability distribution parameters of variables D, E, and H and prior category probabilities (3x2 for D and E, and 3 for C and H, in total 18 parameters)."
   ]
  },
  {
   "cell_type": "code",
   "execution_count": 33,
   "id": "f0d7c856",
   "metadata": {},
   "outputs": [],
   "source": [
    "def estimate_parameters(pop_sample):\n",
    "    \n",
    "    d0_sample, d1_sample, d2_sample, e0_sample, e1_sample, e2_sample, h0_sample, h1_sample, h2_sample = [],[],[],[],[],[],[],[],[]\n",
    "    est_d0, est_d1, est_d2, est_e0, est_e1, est_e2= np.empty(2), np.empty(2), np.empty(2), np.empty(2), np.empty(2), np.empty(2)\n",
    "    c0_count = 0\n",
    "    c1_count = 0\n",
    "    c2_count = 0\n",
    "    for i in range(len(pop_sample)):\n",
    "        if pop_sample[i, 2] == 0:\n",
    "            d0_sample.append(pop_sample[i, 3])\n",
    "            e0_sample.append(pop_sample[i, 4])\n",
    "            h0_sample.append(pop_sample[i, 5])\n",
    "            c0_count += 1\n",
    "        elif pop_sample[i, 2] == 1:\n",
    "            d1_sample.append(pop_sample[i, 3])\n",
    "            e1_sample.append(pop_sample[i, 4])\n",
    "            h1_sample.append(pop_sample[i, 5])\n",
    "            c1_count += 1\n",
    "        elif pop_sample[i, 2] == 2:\n",
    "            d2_sample.append(pop_sample[i, 3])\n",
    "            e2_sample.append(pop_sample[i, 4])\n",
    "            h2_sample.append(pop_sample[i, 5])\n",
    "            c2_count += 1\n",
    "\n",
    "    est_d0[0], est_d0[1] = estimate_mml_d(np.array(d0_sample))\n",
    "    est_d1[0], est_d1[1] = estimate_mml_d(np.array(d1_sample))\n",
    "    est_d2[0], est_d2[1] = estimate_mml_d(np.array(d2_sample))\n",
    "\n",
    "    est_e0[0], est_e0[1] = optimized_estimate_mom_e(np.array(e0_sample))\n",
    "    est_e1[0], est_e1[1] = optimized_estimate_mom_e(np.array(e1_sample))\n",
    "    est_e2[0], est_e2[1] = optimized_estimate_mom_e(np.array(e2_sample))\n",
    "\n",
    "    est_h0, est_h1, est_h2 = estimate_mml_h(np.array(h0_sample)), estimate_mml_h(np.array(h1_sample)), estimate_mml_h(np.array(h2_sample))\n",
    "\n",
    "    p_c0, p_c1, p_c2 = c0_count/len(pop_sample), c1_count/len(pop_sample), c2_count/len(pop_sample)\n",
    "\n",
    "    return est_d0, est_d1, est_d2, est_e0, est_e1, est_e2, est_h0, est_h1, est_h2, p_c0, p_c1, p_c2"
   ]
  },
  {
   "attachments": {},
   "cell_type": "markdown",
   "id": "5eeddf21",
   "metadata": {},
   "source": [
    "<span style=\"color:blue\">**2**</span>. Derive the formula for the posterior probability of each patient category (C) given D, E, and H."
   ]
  },
  {
   "attachments": {},
   "cell_type": "markdown",
   "id": "f633279c",
   "metadata": {},
   "source": [
    "### Answer it in your report!"
   ]
  },
  {
   "attachments": {},
   "cell_type": "markdown",
   "id": "a770559e",
   "metadata": {},
   "source": [
    "<span style=\"color:red\">**3**</span>. Implement a function (**calc_posterior**) that takes the cholesterol level (d), systolic blood pressure (e), and Hemoglobin A1c (HbA1c) level (h) of a patient and the distribution parameters estimated using the estimate_parameters function. Using the Bayes Rule, it computes and returns patient category (C) probabilities."
   ]
  },
  {
   "cell_type": "code",
   "execution_count": 44,
   "id": "624a1db3",
   "metadata": {},
   "outputs": [],
   "source": [
    "def calc_posterior(d, e, h, params):\n",
    "    \n",
    "    est_d0, est_d1, est_d2, est_e0, est_e1, est_e2, est_h0, est_h1, est_h2, p_c0, p_c1, p_c2 = params\n",
    "\n",
    "    p_d = pdf_d(d, est_d0[0], est_d0[1])*p_c0 + pdf_d(d, est_d1[0], est_d1[1])*p_c1 + pdf_d(d, est_d2[0], est_d2[1])*p_c2\n",
    "    p_e = pdf_e(e, est_e0[0], est_e0[1])*p_c0 + pdf_e(e, est_e1[0], est_e1[1])*p_c1 + pdf_e(e, est_e2[0], est_e2[1])*p_c2\n",
    "    p_h = pdf_h(h, est_h0[0], est_h0[1])*p_c0 + pdf_h(h, est_h1[0], est_h1[1])*p_c1 + pdf_h(h, est_h2[0], est_h2[1])*p_c2\n",
    "\n",
    "    p_d = np.where(p_d == 0, 1e-10, p_d)#To be sure that we don't have a division by zero error.\n",
    "    p_e = np.where(p_e == 0, 1e-10, p_e)\n",
    "    p_h = np.where(p_h == 0, 1e-10, p_h)\n",
    "\n",
    "    p0 = (pdf_d(d, est_d0[0], est_d0[1]) * pdf_e(e, est_e0[0], est_e0[1]) * pdf_h(h, est_h0[0], est_h0[1]) * p_c0)/(p_d * p_e * p_h)\n",
    "    p1 = (pdf_d(d, est_d1[0], est_d1[1]) * pdf_e(e, est_e1[0], est_e1[1]) * pdf_h(h, est_h1[0], est_h1[1]) * p_c1)/(p_d * p_e * p_h)\n",
    "    p2 = (pdf_d(d, est_d2[0], est_d2[1]) * pdf_e(e, est_e2[0], est_e2[1]) * pdf_h(h, est_h2[0], est_h2[1]) * p_c2)/(p_d * p_e * p_h)\n",
    "    \n",
    "    p0 = np.where(p0 == 0, 1e-10, p0)#To be sure that we don't have a division by zero error.\n",
    "    p1 = np.where(p1 == 0, 1e-10, p1)\n",
    "    p2 = np.where(p2 == 0, 1e-10, p2)\n",
    "\n",
    "    P0 = p0/(p0 + p1 + p2)#Normalizing\n",
    "    P1 = p1/(p0 + p1 + p2)\n",
    "    P2 = p2/(p0 + p1 + p2)\n",
    "\n",
    "    return P0, P1, P2"
   ]
  },
  {
   "attachments": {},
   "cell_type": "markdown",
   "id": "073c86b6",
   "metadata": {},
   "source": [
    "<span style=\"color:red\">**4**</span>. Create a sample of size 10000 for training. Training means that the patient categories are known (labeled) and will be used for estimating the category-conditioned probability distribution parameters."
   ]
  },
  {
   "cell_type": "code",
   "execution_count": 45,
   "id": "e7992d82",
   "metadata": {},
   "outputs": [],
   "source": [
    "training_sample = random_sample(population, 10000)"
   ]
  },
  {
   "attachments": {},
   "cell_type": "markdown",
   "id": "dc373928",
   "metadata": {},
   "source": [
    "<span style=\"color:red\">**5**</span>. Create a sample size of 1000 for testing. Testing means that the patient categories are to be predicted. They will be determined as the category with the maximum posterior probability."
   ]
  },
  {
   "cell_type": "code",
   "execution_count": 94,
   "id": "c93b37a7",
   "metadata": {},
   "outputs": [],
   "source": [
    "test_sample = random_sample(population, 1000)"
   ]
  },
  {
   "attachments": {},
   "cell_type": "markdown",
   "id": "9113d0f8",
   "metadata": {},
   "source": [
    "<span style=\"color:red\">**6**</span>. Using the training sample, compute the category-conditioned probability distribution parameters."
   ]
  },
  {
   "cell_type": "code",
   "execution_count": 95,
   "id": "65747201",
   "metadata": {},
   "outputs": [],
   "source": [
    "params = estimate_parameters(training_sample)"
   ]
  },
  {
   "attachments": {},
   "cell_type": "markdown",
   "id": "da0834b4",
   "metadata": {},
   "source": [
    "<span style=\"color:red\">**7**</span>. For each patient in the test sample, compute the posterior probability for each category using the corresponding d, e, and h values and the previously estimated distribution parameters. Determine the category of the patient as the one with the highest posterior probability. Compare the estimated and the actual categories to check if the classification was correct. In 1000 tests, compute and print the ratio of the correctly classified patients."
   ]
  },
  {
   "cell_type": "code",
   "execution_count": 96,
   "id": "fd163cfd",
   "metadata": {},
   "outputs": [
    {
     "name": "stdout",
     "output_type": "stream",
     "text": [
      "The ratio of the correctly classified patients are 83.39999999999999%.\n"
     ]
    }
   ],
   "source": [
    "correct_est_count = 0\n",
    "\n",
    "for i in range(len(test_sample)):\n",
    "    P0,P1,P2 = calc_posterior(test_sample[i,3], test_sample[i,4], test_sample[i,5], params)\n",
    "    if P0 > P1 and P0 > P2:\n",
    "        est_c = 0\n",
    "    elif P1 > P2:\n",
    "        est_c = 1\n",
    "    else:\n",
    "        est_c = 2\n",
    "    \n",
    "    if est_c == test_sample[i,2]:\n",
    "        correct_est_count += 1\n",
    "\n",
    "ratio = (correct_est_count/1000)*100\n",
    "print(f\"The ratio of the correctly classified patients are {ratio}%.\")"
   ]
  }
 ],
 "metadata": {
  "kernelspec": {
   "display_name": "Python 3 (ipykernel)",
   "language": "python",
   "name": "python3"
  },
  "language_info": {
   "codemirror_mode": {
    "name": "ipython",
    "version": 3
   },
   "file_extension": ".py",
   "mimetype": "text/x-python",
   "name": "python",
   "nbconvert_exporter": "python",
   "pygments_lexer": "ipython3",
   "version": "3.9.12"
  }
 },
 "nbformat": 4,
 "nbformat_minor": 5
}
